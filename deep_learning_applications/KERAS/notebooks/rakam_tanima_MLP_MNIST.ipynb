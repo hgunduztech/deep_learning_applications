{
  "nbformat": 4,
  "nbformat_minor": 0,
  "metadata": {
    "colab": {
      "name": "rakam_tanima_MLP_MNIST.ipynb",
      "version": "0.3.2",
      "views": {},
      "default_view": {},
      "provenance": []
    },
    "kernelspec": {
      "name": "python3",
      "display_name": "Python 3"
    },
    "accelerator": "GPU"
  },
  "cells": [
    {
      "metadata": {
        "id": "8XvJsUhgs-t_",
        "colab_type": "text"
      },
      "cell_type": "markdown",
      "source": [
        "![Deep Learning Türkiye Uygulamalar](https://raw.githubusercontent.com/deeplearningturkiye/pratik-derin-ogrenme-uygulamalari/84354f5989730fc297ec5c6d247b1990632cc992/images/dltr_logo.png)\n",
        "\n",
        "[Google Colab'da çalıştır!](https://colab.research.google.com/github/deeplearningturkiye/pratik-derin-ogrenme-uygulamalari/blob/master/KERAS/rakam_tanima_MLP_MNIST.ipynb)"
      ]
    },
    {
      "metadata": {
        "id": "8zZihAoHqyZn",
        "colab_type": "code",
        "colab": {
          "autoexec": {
            "startup": false,
            "wait_interval": 0
          },
          "output_extras": [
            {
              "item_id": 1
            }
          ],
          "base_uri": "https://localhost:8080/",
          "height": 34
        },
        "outputId": "a1bebd0b-1327-46bc-e11c-2b9136721b43",
        "executionInfo": {
          "status": "ok",
          "timestamp": 1522745030264,
          "user_tz": -180,
          "elapsed": 8044,
          "user": {
            "displayName": "Deep Colab",
            "photoUrl": "https://lh3.googleusercontent.com/a/default-user=s128",
            "userId": "114679895333247781758"
          }
        }
      },
      "cell_type": "code",
      "source": [
        "\"\"\"\n",
        "Deep Learning Türkiye topluluğu tarafından hazırlanmıştır.\n",
        "\n",
        "Amaç: El yazısı rakamların tanınması.\n",
        "Veriseti: MNIST (http://yann.lecun.com/exdb/mnist/)\n",
        "Algoritma: Çok Katmanlı Algılayıcı (Multi-Layer Perceptron (MLP))\n",
        "Microsoft Azure Notebook: \n",
        "\n",
        "20 epoch sonunda %98.36 test doğruluk oranı elde ediliyor.\n",
        "\"\"\"\n",
        "from __future__ import print_function\n",
        "\n",
        "import keras\n",
        "from keras.datasets import mnist\n",
        "from keras.models import Sequential\n",
        "from keras.layers import Dense, Dropout\n",
        "from keras.optimizers import RMSprop"
      ],
      "execution_count": 1,
      "outputs": [
        {
          "output_type": "stream",
          "text": [
            "Using TensorFlow backend.\n"
          ],
          "name": "stderr"
        }
      ]
    },
    {
      "metadata": {
        "id": "f6tTK_BJq4C8",
        "colab_type": "code",
        "colab": {
          "autoexec": {
            "startup": false,
            "wait_interval": 0
          },
          "output_extras": [
            {
              "item_id": 3
            }
          ],
          "base_uri": "https://localhost:8080/",
          "height": 51
        },
        "outputId": "6a983373-ed98-4b5a-de56-c1ed2dd346c9",
        "executionInfo": {
          "status": "ok",
          "timestamp": 1522745065418,
          "user_tz": -180,
          "elapsed": 1558,
          "user": {
            "displayName": "Deep Colab",
            "photoUrl": "https://lh3.googleusercontent.com/a/default-user=s128",
            "userId": "114679895333247781758"
          }
        }
      },
      "cell_type": "code",
      "source": [
        "batch_size = 128 # her bir iterasyonda \"128\" resim alınsın\n",
        "num_classes = 10 # tanınmak istenen 0-9 rakam (10 sınıf)\n",
        "epochs = 20 # eğitim 20 epoch(eğitim devir sayısı) sürsün\n",
        "\n",
        "# the data, shuffled and split between train and test sets\n",
        "# mnist veriseti rastgele karıştırılmış şekilde train ve set setleri olarak yükleniyor\n",
        "(x_train, y_train), (x_test, y_test) = mnist.load_data()"
      ],
      "execution_count": 2,
      "outputs": [
        {
          "output_type": "stream",
          "text": [
            "Downloading data from https://s3.amazonaws.com/img-datasets/mnist.npz\n",
            "11493376/11490434 [==============================] - 0s 0us/step\n"
          ],
          "name": "stdout"
        }
      ]
    },
    {
      "metadata": {
        "id": "u6bIAoxAq8o0",
        "colab_type": "code",
        "colab": {
          "autoexec": {
            "startup": false,
            "wait_interval": 0
          },
          "output_extras": [
            {
              "item_id": 1
            }
          ],
          "base_uri": "https://localhost:8080/",
          "height": 51
        },
        "outputId": "27c58388-fee8-4063-fe95-d0998c09ba93",
        "executionInfo": {
          "status": "ok",
          "timestamp": 1522745070479,
          "user_tz": -180,
          "elapsed": 797,
          "user": {
            "displayName": "Deep Colab",
            "photoUrl": "https://lh3.googleusercontent.com/a/default-user=s128",
            "userId": "114679895333247781758"
          }
        }
      },
      "cell_type": "code",
      "source": [
        "# Sinir ağımız her eğitim örneği için tek bir vektör alacaktır, \n",
        "# bu nedenle girdiyi 28x28 resim tek bir 784 boyutlu vektör olarak şekilde yeniden şekillendiriyoruz.\n",
        "# Ayrıca girdileri [0-255] yerine [0-1] aralığında ölçeklendireceğiz.\n",
        "x_train = x_train.reshape(60000, 784)\n",
        "x_test = x_test.reshape(10000, 784)\n",
        "x_train = x_train.astype('float32')\n",
        "x_test = x_test.astype('float32')\n",
        "x_train /= 255\n",
        "x_test /= 255\n",
        "print(x_train.shape[0], 'train samples(eğitim örnek sayısı)')\n",
        "print(x_test.shape[0], 'test samples(test örnek sayısı)')\n",
        "\n",
        "# sınıf vektörlerini ikili sınıf matrislerine dönüştürüyoruz\n",
        "y_train = keras.utils.to_categorical(y_train, num_classes)\n",
        "y_test = keras.utils.to_categorical(y_test, num_classes)"
      ],
      "execution_count": 3,
      "outputs": [
        {
          "output_type": "stream",
          "text": [
            "60000 train samples(eğitim örnek sayısı)\n",
            "10000 test samples(test örnek sayısı)\n"
          ],
          "name": "stdout"
        }
      ]
    },
    {
      "metadata": {
        "id": "-iTdSpwXrDqt",
        "colab_type": "code",
        "colab": {
          "autoexec": {
            "startup": false,
            "wait_interval": 0
          },
          "output_extras": [
            {
              "item_id": 1
            }
          ],
          "base_uri": "https://localhost:8080/",
          "height": 306
        },
        "outputId": "f6487df7-a49b-4d3f-d52e-da78c148590c",
        "executionInfo": {
          "status": "ok",
          "timestamp": 1522745075708,
          "user_tz": -180,
          "elapsed": 848,
          "user": {
            "displayName": "Deep Colab",
            "photoUrl": "https://lh3.googleusercontent.com/a/default-user=s128",
            "userId": "114679895333247781758"
          }
        }
      },
      "cell_type": "code",
      "source": [
        "# Ağımızı kuralım\n",
        "# Burada basit bir 3 katmanlı tam bağlantılı ağ yapacağız.(fully connected network (\"Dense\"))\n",
        "# Ayrıca eğitim sırasında aşırı öğrenme (overfitting) olmaması için bırakma/atılma (\"Dropout\") uygulayacağız.\n",
        "# Dropout tekniği 2014 yılında bir makale de önerilmiştir ve o zamandan beri benimsenerek kullanılmıştır. (http://jmlr.org/papers/v15/srivastava14a.html)\n",
        "# Pratikte %20 ile %50 arasında dropout uygulandığı görülüyor.\n",
        "\n",
        "model = Sequential()\n",
        "model.add(Dense(512, activation='relu', input_shape=(784,)))\n",
        "model.add(Dropout(0.2))\n",
        "model.add(Dense(512, activation='relu'))\n",
        "model.add(Dropout(0.2))\n",
        "model.add(Dense(num_classes, activation='softmax')) #Softmax katmanı ile çıktı değerlerimizin hepsini bir olasılık dağılımı olarak hesaplanmasını sağlıyoruz.\n",
        "\n",
        "model.summary()"
      ],
      "execution_count": 4,
      "outputs": [
        {
          "output_type": "stream",
          "text": [
            "_________________________________________________________________\n",
            "Layer (type)                 Output Shape              Param #   \n",
            "=================================================================\n",
            "dense_1 (Dense)              (None, 512)               401920    \n",
            "_________________________________________________________________\n",
            "dropout_1 (Dropout)          (None, 512)               0         \n",
            "_________________________________________________________________\n",
            "dense_2 (Dense)              (None, 512)               262656    \n",
            "_________________________________________________________________\n",
            "dropout_2 (Dropout)          (None, 512)               0         \n",
            "_________________________________________________________________\n",
            "dense_3 (Dense)              (None, 10)                5130      \n",
            "=================================================================\n",
            "Total params: 669,706\n",
            "Trainable params: 669,706\n",
            "Non-trainable params: 0\n",
            "_________________________________________________________________\n"
          ],
          "name": "stdout"
        }
      ]
    },
    {
      "metadata": {
        "id": "X-W5jpdQrGBM",
        "colab_type": "code",
        "colab": {
          "autoexec": {
            "startup": false,
            "wait_interval": 0
          }
        }
      },
      "cell_type": "code",
      "source": [
        "# Ağ derlenirken kayıp fonksiyonunuzu ve optimizatörünüzü belirtmemiz isteniyor.\n",
        "# Optimizasyon tiplerinden \"RMSprop\" ve yitim (loss) fonksiyonu olarak \"categorical_crossentropy\" kullanıyoruz.\n",
        "# Son parametre olarak da hali hazırda tanımlanmış tek metrik fonksiyonu olan \"accuracy\" yi kullanıyoruz. Accuracy bize 0-1 arasında bir doğruluk değeri verecektir.\n",
        "model.compile(loss='categorical_crossentropy',\n",
        "              optimizer=RMSprop(),\n",
        "              metrics=['accuracy'])"
      ],
      "execution_count": 0,
      "outputs": []
    },
    {
      "metadata": {
        "id": "CE8IUJ6Frh32",
        "colab_type": "code",
        "colab": {
          "autoexec": {
            "startup": false,
            "wait_interval": 0
          },
          "output_extras": [
            {
              "item_id": 52
            },
            {
              "item_id": 106
            },
            {
              "item_id": 156
            },
            {
              "item_id": 205
            },
            {
              "item_id": 219
            }
          ],
          "base_uri": "https://localhost:8080/",
          "height": 734
        },
        "outputId": "c70cfece-f1a4-41b3-ce05-c85a77778f48",
        "executionInfo": {
          "status": "ok",
          "timestamp": 1522745174389,
          "user_tz": -180,
          "elapsed": 72447,
          "user": {
            "displayName": "Deep Colab",
            "photoUrl": "https://lh3.googleusercontent.com/a/default-user=s128",
            "userId": "114679895333247781758"
          }
        }
      },
      "cell_type": "code",
      "source": [
        "# Burası en eğlenceli kısım, ağımızı eğitme kısmı :)\n",
        "# Daha önce yüklenmiş eğitim verileri ile sınıflandırmayı öğrenmeye çalışır.\n",
        "# Fit fonksiyonu eğitim sırasındaki yitim(loss)/doğrulama başarımı (accuracy) değerleri ile bir çok ayrıntı döndürür.\n",
        "history = model.fit(x_train, y_train,\n",
        "                    batch_size=batch_size,\n",
        "                    epochs=epochs,\n",
        "                    verbose=1,\n",
        "                    validation_data=(x_test, y_test))"
      ],
      "execution_count": 6,
      "outputs": [
        {
          "output_type": "stream",
          "text": [
            "Train on 60000 samples, validate on 10000 samples\n",
            "Epoch 1/20\n",
            "60000/60000 [==============================] - 4s 74us/step - loss: 0.2449 - acc: 0.9251 - val_loss: 0.0985 - val_acc: 0.9698\n",
            "Epoch 2/20\n",
            "60000/60000 [==============================] - 4s 59us/step - loss: 0.1032 - acc: 0.9688 - val_loss: 0.0813 - val_acc: 0.9752\n",
            "Epoch 3/20\n",
            "60000/60000 [==============================] - 4s 59us/step - loss: 0.0741 - acc: 0.9781 - val_loss: 0.0812 - val_acc: 0.9768\n",
            "Epoch 4/20\n",
            "60000/60000 [==============================] - 4s 60us/step - loss: 0.0601 - acc: 0.9813 - val_loss: 0.0980 - val_acc: 0.9734\n",
            "Epoch 5/20\n",
            "12544/60000 [=====>........................] - ETA: 2s - loss: 0.0470 - acc: 0.9864"
          ],
          "name": "stdout"
        },
        {
          "output_type": "stream",
          "text": [
            "60000/60000 [==============================] - 4s 59us/step - loss: 0.0496 - acc: 0.9854 - val_loss: 0.0753 - val_acc: 0.9809\n",
            "Epoch 6/20\n",
            "60000/60000 [==============================] - 4s 60us/step - loss: 0.0430 - acc: 0.9871 - val_loss: 0.0763 - val_acc: 0.9816\n",
            "Epoch 7/20\n",
            "60000/60000 [==============================] - 4s 59us/step - loss: 0.0377 - acc: 0.9883 - val_loss: 0.0779 - val_acc: 0.9832\n",
            "Epoch 8/20\n",
            "60000/60000 [==============================] - 4s 59us/step - loss: 0.0344 - acc: 0.9897 - val_loss: 0.0825 - val_acc: 0.9814\n",
            "Epoch 9/20\n",
            "41472/60000 [===================>..........] - ETA: 1s - loss: 0.0296 - acc: 0.9914"
          ],
          "name": "stdout"
        },
        {
          "output_type": "stream",
          "text": [
            "60000/60000 [==============================] - 4s 59us/step - loss: 0.0323 - acc: 0.9908 - val_loss: 0.0766 - val_acc: 0.9831\n",
            "Epoch 10/20\n",
            "60000/60000 [==============================] - 4s 59us/step - loss: 0.0299 - acc: 0.9912 - val_loss: 0.0913 - val_acc: 0.9825\n",
            "Epoch 11/20\n",
            "60000/60000 [==============================] - 4s 59us/step - loss: 0.0259 - acc: 0.9924 - val_loss: 0.1044 - val_acc: 0.9799\n",
            "Epoch 12/20\n",
            "60000/60000 [==============================] - 4s 59us/step - loss: 0.0266 - acc: 0.9926 - val_loss: 0.1072 - val_acc: 0.9816\n",
            "Epoch 13/20\n",
            "43264/60000 [====================>.........] - ETA: 0s - loss: 0.0212 - acc: 0.9941"
          ],
          "name": "stdout"
        },
        {
          "output_type": "stream",
          "text": [
            "60000/60000 [==============================] - 4s 59us/step - loss: 0.0218 - acc: 0.9940 - val_loss: 0.0896 - val_acc: 0.9850\n",
            "Epoch 14/20\n",
            "60000/60000 [==============================] - 4s 59us/step - loss: 0.0225 - acc: 0.9937 - val_loss: 0.1046 - val_acc: 0.9828\n",
            "Epoch 15/20\n",
            "60000/60000 [==============================] - 4s 59us/step - loss: 0.0211 - acc: 0.9946 - val_loss: 0.1020 - val_acc: 0.9828\n",
            "Epoch 16/20\n",
            "60000/60000 [==============================] - 4s 59us/step - loss: 0.0194 - acc: 0.9945 - val_loss: 0.1108 - val_acc: 0.9825\n",
            "Epoch 17/20\n",
            "44288/60000 [=====================>........] - ETA: 0s - loss: 0.0197 - acc: 0.9947"
          ],
          "name": "stdout"
        },
        {
          "output_type": "stream",
          "text": [
            "60000/60000 [==============================] - 4s 59us/step - loss: 0.0207 - acc: 0.9944 - val_loss: 0.1058 - val_acc: 0.9826\n",
            "Epoch 18/20\n",
            "60000/60000 [==============================] - 4s 59us/step - loss: 0.0188 - acc: 0.9951 - val_loss: 0.0989 - val_acc: 0.9851\n",
            "Epoch 19/20\n",
            "60000/60000 [==============================] - 4s 59us/step - loss: 0.0182 - acc: 0.9952 - val_loss: 0.1172 - val_acc: 0.9829\n",
            "Epoch 20/20\n",
            "60000/60000 [==============================] - 3s 58us/step - loss: 0.0168 - acc: 0.9955 - val_loss: 0.1079 - val_acc: 0.9836\n"
          ],
          "name": "stdout"
        }
      ]
    },
    {
      "metadata": {
        "id": "1OM2tgIsrjhZ",
        "colab_type": "code",
        "colab": {
          "autoexec": {
            "startup": false,
            "wait_interval": 0
          },
          "output_extras": [
            {
              "item_id": 1
            }
          ],
          "base_uri": "https://localhost:8080/",
          "height": 51
        },
        "outputId": "af307f41-91c5-4753-822a-fae208f98624",
        "executionInfo": {
          "status": "ok",
          "timestamp": 1522745175781,
          "user_tz": -180,
          "elapsed": 1369,
          "user": {
            "displayName": "Deep Colab",
            "photoUrl": "https://lh3.googleusercontent.com/a/default-user=s128",
            "userId": "114679895333247781758"
          }
        }
      },
      "cell_type": "code",
      "source": [
        "# Son olarak eğitilmiş ağımızın test setimiz üzerindeki performans değerlerimizi hesaplayarak ekrana yazdıralım.\n",
        "score = model.evaluate(x_test, y_test, verbose=0)\n",
        "print('Test loss:', score[0])\n",
        "print('Test accuracy:', score[1])"
      ],
      "execution_count": 7,
      "outputs": [
        {
          "output_type": "stream",
          "text": [
            "Test loss: 0.1078977434607269\n",
            "Test accuracy: 0.9836\n"
          ],
          "name": "stdout"
        }
      ]
    }
  ]
}