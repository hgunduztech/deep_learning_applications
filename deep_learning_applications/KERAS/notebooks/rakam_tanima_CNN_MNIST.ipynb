{
 "cells": [
  {
   "cell_type": "markdown",
   "metadata": {
    "colab_type": "text",
    "id": "AfZYoMJEw0mf"
   },
   "source": [
    "![Deep Learning Türkiye Uygulamalar](https://raw.githubusercontent.com/deeplearningturkiye/pratik-derin-ogrenme-uygulamalari/84354f5989730fc297ec5c6d247b1990632cc992/images/dltr_logo.png)\n",
    "\n",
    "[Google Colab'da çalıştır!](https://colab.research.google.com/github/deeplearningturkiye/pratik-derin-ogrenme-uygulamalari/blob/master/KERAS/rakam_tanima_CNN_MNIST.ipynb)"
   ]
  },
  {
   "cell_type": "code",
   "execution_count": 1,
   "metadata": {
    "colab": {
     "autoexec": {
      "startup": false,
      "wait_interval": 0
     },
     "base_uri": "https://localhost:8080/",
     "height": 34,
     "output_extras": [
      {
       "item_id": 1
      }
     ]
    },
    "colab_type": "code",
    "executionInfo": {
     "elapsed": 1744,
     "status": "ok",
     "timestamp": 1522746090757,
     "user": {
      "displayName": "Deep Colab",
      "photoUrl": "https://lh3.googleusercontent.com/a/default-user=s128",
      "userId": "114679895333247781758"
     },
     "user_tz": -180
    },
    "id": "QWcKhlw-u6r1",
    "outputId": "d81a54a5-33a5-4d86-84c5-1a3ffd4ce721"
   },
   "outputs": [
    {
     "name": "stderr",
     "output_type": "stream",
     "text": [
      "Using TensorFlow backend.\n"
     ]
    }
   ],
   "source": [
    "'''\n",
    "Deep Learning Türkiye topluluğu tarafından hazırlanmıştır.\n",
    "\n",
    "Amaç: El yazısı rakamların tanınması.\n",
    "Veriseti: MNIST (http://yann.lecun.com/exdb/mnist/)\n",
    "Algoritma: Evrişimli Sinir Ağları (Convolutional Neural Networks)\n",
    "Microsoft Azure Notebook: https://notebooks.azure.com/deeplearningturkiye/libraries/pratik-derin-ogrenme/html/rakam_tanima_CNN_MNIST.ipynb\n",
    "\n",
    "Ağ Mimarisi:\n",
    "\n",
    "- 32 x 3 x 3 CONV\n",
    "- 64 x 3 x 4 CONV\n",
    "- 2 x 2 MAX POOL\n",
    "- DROPOUT (%25)\n",
    "- 128 FC\n",
    "- DROPOUT (%50)\n",
    "- 10 FC\n",
    "\n",
    "\n",
    "12 epoch sonunda 99.25% test doğruluk oranı elde ediliyor.\n",
    "'''\n",
    "\n",
    "from __future__ import print_function\n",
    "import keras\n",
    "from keras.datasets import mnist\n",
    "from keras.models import Sequential\n",
    "from keras.layers import Dense, Dropout, Flatten\n",
    "from keras.layers import Conv2D, MaxPooling2D\n",
    "from keras import backend as K"
   ]
  },
  {
   "cell_type": "code",
   "execution_count": 2,
   "metadata": {
    "colab": {
     "autoexec": {
      "startup": false,
      "wait_interval": 0
     },
     "base_uri": "https://localhost:8080/",
     "height": 68,
     "output_extras": [
      {
       "item_id": 1
      }
     ]
    },
    "colab_type": "code",
    "executionInfo": {
     "elapsed": 1097,
     "status": "ok",
     "timestamp": 1522746104537,
     "user": {
      "displayName": "Deep Colab",
      "photoUrl": "https://lh3.googleusercontent.com/a/default-user=s128",
      "userId": "114679895333247781758"
     },
     "user_tz": -180
    },
    "id": "TqNp3yfxvBz-",
    "outputId": "64591b69-794b-4e76-b8da-1a9f08b8fad6"
   },
   "outputs": [
    {
     "name": "stdout",
     "output_type": "stream",
     "text": [
      "x_train shape: (60000, 28, 28, 1)\n",
      "60000 train samples\n",
      "10000 test samples\n"
     ]
    }
   ],
   "source": [
    "batch_size = 128 # her bir iterasyonda \"128\" resim alınsın\n",
    "num_classes = 10 # ayırt etmek istediğimiz \"10\" rakam\n",
    "epochs = 12 # eğitim 12 epoch sürsün\n",
    "\n",
    "# giriş resimlerinin boyutları 28 x 28 piksel\n",
    "img_rows, img_cols = 28, 28\n",
    "\n",
    "# veri önce karıştırılıyor (shuffle) sonra da eğitim/test diye ayrılıyor\n",
    "(x_train, y_train), (x_test, y_test) = mnist.load_data()\n",
    "\n",
    "if K.image_data_format() == 'channels_first':\n",
    "    x_train = x_train.reshape(x_train.shape[0], 1, img_rows, img_cols)\n",
    "    x_test = x_test.reshape(x_test.shape[0], 1, img_rows, img_cols)\n",
    "    input_shape = (1, img_rows, img_cols)\n",
    "else:\n",
    "    x_train = x_train.reshape(x_train.shape[0], img_rows, img_cols, 1)\n",
    "    x_test = x_test.reshape(x_test.shape[0], img_rows, img_cols, 1)\n",
    "    input_shape = (img_rows, img_cols, 1)\n",
    "\n",
    "x_train = x_train.astype('float32')\n",
    "x_test = x_test.astype('float32')\n",
    "x_train /= 255\n",
    "x_test /= 255\n",
    "print('x_train shape:', x_train.shape)\n",
    "print(x_train.shape[0], 'train samples')\n",
    "print(x_test.shape[0], 'test samples')\n",
    "\n",
    "# sınıf vektörleri ikili (binary) formununa dönüştürülür\n",
    "# \"to_catogorical\" fonksiyonu ile one-hot-encoding yapıyoruz\n",
    "y_train = keras.utils.to_categorical(y_train, num_classes)\n",
    "y_test = keras.utils.to_categorical(y_test, num_classes)"
   ]
  },
  {
   "cell_type": "code",
   "execution_count": 0,
   "metadata": {
    "colab": {
     "autoexec": {
      "startup": false,
      "wait_interval": 0
     }
    },
    "colab_type": "code",
    "id": "IurWHtygvKQp"
   },
   "outputs": [],
   "source": [
    "model = Sequential()\n",
    "\n",
    "# 3x3 boyutunda 32 adet filtreden oluşan ReLU aktivasyonlu CONV katmanı ekleyelim. \n",
    "model.add(Conv2D(32, kernel_size=(3, 3),\n",
    "                 activation='relu',\n",
    "                 input_shape=input_shape))\n",
    "\n",
    "# 3x3 boyutunda 64 adet filtreden oluşan ReLU aktivasyonlu CONV katmanı ekleyelim. \n",
    "model.add(Conv2D(64, (3, 3), activation='relu'))\n",
    "\n",
    "# 2x2 boyutlu çerçeveden oluşan MAXPOOL katmanı ekleyelim. \n",
    "model.add(MaxPooling2D(pool_size=(2, 2)))\n",
    "\n",
    "# her seferinde nöronların %25'i atılsın (drop)\n",
    "model.add(Dropout(0.25))\n",
    "\n",
    "# Tam bağlantılı (fully connected) katmanına geçiş olacağı için düzleştirme yapalım \n",
    "model.add(Flatten())\n",
    "\n",
    "# 128 nörondan oluşan ReLU aktivasyonu FC katmanı ekleyelim \n",
    "model.add(Dense(128, activation='relu'))\n",
    "\n",
    "# Her seferinde %50'sini atalım (drop)\n",
    "model.add(Dropout(0.5))\n",
    "\n",
    "# Çıkış katmanına sınıf sayısı kadar (10) Softmax aktivasyonlu nöron ekleyelim\n",
    "model.add(Dense(num_classes, activation='softmax'))"
   ]
  },
  {
   "cell_type": "code",
   "execution_count": 0,
   "metadata": {
    "colab": {
     "autoexec": {
      "startup": false,
      "wait_interval": 0
     }
    },
    "colab_type": "code",
    "id": "WH2LwXRfvMs1"
   },
   "outputs": [],
   "source": [
    "# Adadelta optimizasyon yöntemini ve cross entropy yitim (loss) fonksiyonunu kullanalım.\n",
    "model.compile(loss=keras.losses.categorical_crossentropy,\n",
    "              optimizer=keras.optimizers.Adadelta(),\n",
    "              metrics=['accuracy'])"
   ]
  },
  {
   "cell_type": "code",
   "execution_count": 5,
   "metadata": {
    "colab": {
     "autoexec": {
      "startup": false,
      "wait_interval": 0
     },
     "base_uri": "https://localhost:8080/",
     "height": 479,
     "output_extras": [
      {
       "item_id": 97
      },
      {
       "item_id": 194
      },
      {
       "item_id": 254
      },
      {
       "item_id": 337
      },
      {
       "item_id": 386
      },
      {
       "item_id": 400
      },
      {
       "item_id": 401
      }
     ]
    },
    "colab_type": "code",
    "executionInfo": {
     "elapsed": 145689,
     "status": "ok",
     "timestamp": 1522746266863,
     "user": {
      "displayName": "Deep Colab",
      "photoUrl": "https://lh3.googleusercontent.com/a/default-user=s128",
      "userId": "114679895333247781758"
     },
     "user_tz": -180
    },
    "id": "uXxveJadvOdp",
    "outputId": "8eda0946-99f6-4e3f-8e50-a96a6713b22c"
   },
   "outputs": [
    {
     "name": "stdout",
     "output_type": "stream",
     "text": [
      "Train on 60000 samples, validate on 10000 samples\n",
      "Epoch 1/12\n",
      "60000/60000 [==============================] - 13s 223us/step - loss: 0.2543 - acc: 0.9209 - val_loss: 0.0558 - val_acc: 0.9816\n",
      "Epoch 2/12\n",
      "60000/60000 [==============================] - 12s 195us/step - loss: 0.0872 - acc: 0.9746 - val_loss: 0.0417 - val_acc: 0.9865\n",
      "Epoch 3/12\n",
      "23808/60000 [==========>...................] - ETA: 6s - loss: 0.0630 - acc: 0.981860000/60000 [==============================] - 12s 195us/step - loss: 0.0648 - acc: 0.9811 - val_loss: 0.0355 - val_acc: 0.9874\n",
      "Epoch 4/12\n",
      "60000/60000 [==============================] - 12s 197us/step - loss: 0.0538 - acc: 0.9842 - val_loss: 0.0349 - val_acc: 0.9880\n",
      "Epoch 5/12\n",
      "50432/60000 [========================>.....] - ETA: 1s - loss: 0.0468 - acc: 0.986060000/60000 [==============================] - 12s 196us/step - loss: 0.0463 - acc: 0.9860 - val_loss: 0.0279 - val_acc: 0.9908\n",
      "Epoch 6/12\n",
      "60000/60000 [==============================] - 12s 202us/step - loss: 0.0414 - acc: 0.9876 - val_loss: 0.0301 - val_acc: 0.9902\n",
      "Epoch 7/12\n",
      "48256/60000 [=======================>......] - ETA: 2s - loss: 0.0368 - acc: 0.988760000/60000 [==============================] - 12s 203us/step - loss: 0.0366 - acc: 0.9885 - val_loss: 0.0313 - val_acc: 0.9902\n",
      "Epoch 8/12\n",
      "60000/60000 [==============================] - 12s 204us/step - loss: 0.0352 - acc: 0.9895 - val_loss: 0.0281 - val_acc: 0.9910\n",
      "Epoch 9/12\n",
      "48384/60000 [=======================>......] - ETA: 2s - loss: 0.0309 - acc: 0.990160000/60000 [==============================] - 12s 200us/step - loss: 0.0312 - acc: 0.9902 - val_loss: 0.0283 - val_acc: 0.9905\n",
      "Epoch 10/12\n",
      "60000/60000 [==============================] - 12s 200us/step - loss: 0.0276 - acc: 0.9919 - val_loss: 0.0290 - val_acc: 0.9909\n",
      "Epoch 11/12\n",
      "51968/60000 [========================>.....] - ETA: 1s - loss: 0.0262 - acc: 0.991560000/60000 [==============================] - 12s 198us/step - loss: 0.0261 - acc: 0.9916 - val_loss: 0.0299 - val_acc: 0.9912\n",
      "Epoch 12/12\n",
      "60000/60000 [==============================] - 12s 195us/step - loss: 0.0250 - acc: 0.9924 - val_loss: 0.0310 - val_acc: 0.9906\n"
     ]
    },
    {
     "data": {
      "text/plain": [
       "<keras.callbacks.History at 0x7f87285c1cf8>"
      ]
     },
     "execution_count": 5,
     "metadata": {
      "tags": []
     },
     "output_type": "execute_result"
    }
   ],
   "source": [
    "# eğitim işlemini gerçekleştirelim\n",
    "model.fit(x_train, y_train,\n",
    "          batch_size=batch_size,\n",
    "          epochs=epochs,\n",
    "          verbose=1,\n",
    "          validation_data=(x_test, y_test))"
   ]
  },
  {
   "cell_type": "code",
   "execution_count": 6,
   "metadata": {
    "colab": {
     "autoexec": {
      "startup": false,
      "wait_interval": 0
     },
     "base_uri": "https://localhost:8080/",
     "height": 51,
     "output_extras": [
      {
       "item_id": 1
      }
     ]
    },
    "colab_type": "code",
    "executionInfo": {
     "elapsed": 2471,
     "status": "ok",
     "timestamp": 1522746467144,
     "user": {
      "displayName": "Deep Colab",
      "photoUrl": "https://lh3.googleusercontent.com/a/default-user=s128",
      "userId": "114679895333247781758"
     },
     "user_tz": -180
    },
    "id": "ffNBvgzfvP0f",
    "outputId": "d58f6abb-2972-4e9e-f5ae-77de9786c382"
   },
   "outputs": [
    {
     "name": "stdout",
     "output_type": "stream",
     "text": [
      "Test loss: 0.03097711577239097\n",
      "Test accuracy: 0.9906\n"
     ]
    }
   ],
   "source": [
    "# test işlemini gerçekleştirelim ve sonuçları ekrana yazdıralım\n",
    "score = model.evaluate(x_test, y_test, verbose=0)\n",
    "print('Test loss:', score[0])\n",
    "print('Test accuracy:', score[1])"
   ]
  }
 ],
 "metadata": {
  "accelerator": "GPU",
  "colab": {
   "default_view": {},
   "name": "rakam_tanima_CNN_MNIST.ipynb",
   "provenance": [],
   "version": "0.3.2",
   "views": {}
  },
  "kernelspec": {
   "display_name": "Python 3",
   "language": "python",
   "name": "python3"
  },
  "language_info": {
   "codemirror_mode": {
    "name": "ipython",
    "version": 3
   },
   "file_extension": ".py",
   "mimetype": "text/x-python",
   "name": "python",
   "nbconvert_exporter": "python",
   "pygments_lexer": "ipython3",
   "version": "3.6.5"
  }
 },
 "nbformat": 4,
 "nbformat_minor": 1
}
