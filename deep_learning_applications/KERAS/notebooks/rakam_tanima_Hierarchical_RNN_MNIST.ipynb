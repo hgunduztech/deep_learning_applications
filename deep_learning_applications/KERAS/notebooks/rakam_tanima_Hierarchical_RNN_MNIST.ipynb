{
  "nbformat": 4,
  "nbformat_minor": 0,
  "metadata": {
    "colab": {
      "name": "Copy of rakam_tanima_Hierarchical_RNN_MNIST.ipynb",
      "version": "0.3.2",
      "views": {},
      "default_view": {},
      "provenance": [
        {
          "file_id": "16CZv9YojC7DEDLMh04tlHqT1tdDXbSiQ",
          "timestamp": 1533215318161
        }
      ]
    },
    "kernelspec": {
      "name": "python2",
      "display_name": "Python 2"
    }
  },
  "cells": [
    {
      "metadata": {
        "id": "fyTtCdCfVfRu",
        "colab_type": "text"
      },
      "cell_type": "markdown",
      "source": [
        "\n",
        "![Deep Learning Türkiye Uygulamalar](https://raw.githubusercontent.com/deeplearningturkiye/pratik-derin-ogrenme-uygulamalari/84354f5989730fc297ec5c6d247b1990632cc992/images/dltr_logo.png)\n",
        "\n",
        "[Google Colab'da çalıştır!](https://colab.research.google.com/drive/1WSiC13KMCL0-WVp7K1u4jb45T5fu9NEW)\n",
        "\n",
        "<h2>Hiyerarşik Devirli Sinir Ağları (Hierarchical Recurrent Neural Networks (HRNN))</h2>\n",
        "\n",
        "---\n",
        "\n"
      ]
    },
    {
      "metadata": {
        "id": "56x0BbvNWcqX",
        "colab_type": "text"
      },
      "cell_type": "markdown",
      "source": [
        "_Deep Learning Türkiye topluluğu tarafından hazırlanmıştır. <br>\n",
        "__Amaç:__ El yazısı rakamların tanınması.<br>\n",
        "__Veriseti:__ MNIST (http://yann.lecun.com/exdb/mnist/)<br>\n",
        "__Algoritma:__ Hiyerarşik Devirli Sinir Ağları (Hierarchical Recurrent Neural Networks (HRNN))_<br>\n",
        "\n",
        "El yazısı rakamların tanınmasında Hiyerarşik Devirli Sinir Ağları (HRNN) kullanımının bir örneğidir.\n",
        "HRNN'ler karmaşık bir dizilim üzerinde geçici hiyerarşilerin birçok katmanını kullanarak öğrenebilirler.\n",
        "Genelde, HRNN'in ilk devirli katmanı cümleleri (kelime vektörü gibi) cümle vektörlerine dönüştürüyor.\n",
        "İkinci devirli katmanı sonrasında bu vektörlerin dizilimini bir döküman vektörüne dönüştürüyor.\n",
        "Bu döküman vektörü ile hem kelime seviyesindeki hem de cümle seviyesindeki içerik yapısının korunmuş oluyor.\n",
        "\n",
        "#### Referanslar\n",
        "- [A Hierarchical Neural Autoencoder for Paragraphs and Documents](https://arxiv.org/abs/1506.01057)<br>\n",
        "  Paragraf ve dökümanları HRNN ile dönüştürüyor.\n",
        "  Sonuçların gösterdiğine göre HRNN standart RNN'lerin performansını geçmiş\n",
        "  ve yazı özetlemek yada soru-cevap üretimi gibi daha ileri seviye görevlerde kullanılabilir.\n",
        "- [Hierarchical recurrent neural network for skeleton based action recognition](http://ieeexplore.ieee.org/stamp/stamp.jsp?tp=&arnumber=7298714)<br>\n",
        "  İskelet bazında hareket tahmini konusunda şimdiye kadarki en iyi sonuçlara ulaşmıştır.\n",
        "  3 katmanlı çift yönlü (bidirectional) HRNN ve tamamen bağlı katmanların (fully connected layers) kombinasyonu kullanılmıştır.\n",
        "\n",
        "Aşağıdaki MNIST örneğinde, birinci LSTM katmanı öncelikle herbir (28,1) boyutundaki piksel sütununu (128,) boyutunda sütun vektörüne dönüştürüyor.\n",
        "İkinci LSTM sonrasında bu (28, 128) boyutundaki 28 sütun vektörünü resim vektörüne yani tüm resme dönüştürüyor.\n",
        "Son yoğun (Dense) katman tahmin yapmak için eklendi.\n",
        "\n",
        "5 epoch sonunda, eğitim verisetinde __98.58%__, validasyon verisetinde __98.64%__ doğruluk oranı elde ediliyor."
      ]
    },
    {
      "metadata": {
        "id": "1JxXOezeVufl",
        "colab_type": "code",
        "colab": {
          "autoexec": {
            "startup": false,
            "wait_interval": 0
          },
          "base_uri": "https://localhost:8080/",
          "height": 34
        },
        "outputId": "77a1bae2-035d-435e-ca18-739849ce2dd2",
        "executionInfo": {
          "status": "ok",
          "timestamp": 1533208598196,
          "user_tz": -180,
          "elapsed": 2542,
          "user": {
            "displayName": "Hacer Tilbec",
            "photoUrl": "//lh4.googleusercontent.com/-Mr92juGAy50/AAAAAAAAAAI/AAAAAAAAANY/Nj8C6hASxVk/s50-c-k-no/photo.jpg",
            "userId": "114581550924543140498"
          }
        }
      },
      "cell_type": "code",
      "source": [
        "from __future__ import print_function\n",
        "\n",
        "import keras\n",
        "from keras.datasets import mnist\n",
        "from keras.models import Model\n",
        "from keras.layers import Input, Dense, TimeDistributed\n",
        "from keras.layers import LSTM\n",
        "from keras.utils.np_utils import to_categorical # Bu satiri to_categorical fonksiyonunu hatasız kullanabilmek için ekledim"
      ],
      "execution_count": 0,
      "outputs": [
        {
          "output_type": "stream",
          "text": [
            "Using TensorFlow backend.\n"
          ],
          "name": "stderr"
        }
      ]
    },
    {
      "metadata": {
        "id": "Yx6gqutyWoyH",
        "colab_type": "code",
        "colab": {
          "autoexec": {
            "startup": false,
            "wait_interval": 0
          },
          "base_uri": "https://localhost:8080/",
          "height": 34
        },
        "outputId": "085a0820-568b-46d1-98c6-c9713e20dcc6",
        "executionInfo": {
          "status": "ok",
          "timestamp": 1533208609054,
          "user_tz": -180,
          "elapsed": 864,
          "user": {
            "displayName": "Hacer Tilbec",
            "photoUrl": "//lh4.googleusercontent.com/-Mr92juGAy50/AAAAAAAAAAI/AAAAAAAAANY/Nj8C6hASxVk/s50-c-k-no/photo.jpg",
            "userId": "114581550924543140498"
          }
        }
      },
      "cell_type": "code",
      "source": [
        "print(\"Kullanılan keras versiyonu: \",keras.__version__)"
      ],
      "execution_count": 0,
      "outputs": [
        {
          "output_type": "stream",
          "text": [
            "Kullanılan keras versiyonu:  2.1.6\n"
          ],
          "name": "stdout"
        }
      ]
    },
    {
      "metadata": {
        "id": "_GxWS6F5Wr2B",
        "colab_type": "code",
        "colab": {
          "autoexec": {
            "startup": false,
            "wait_interval": 0
          },
          "base_uri": "https://localhost:8080/",
          "height": 119
        },
        "outputId": "d6ad3b31-1eb9-42c1-ccfe-a92ca4b337ca",
        "executionInfo": {
          "status": "ok",
          "timestamp": 1533208620071,
          "user_tz": -180,
          "elapsed": 2387,
          "user": {
            "displayName": "Hacer Tilbec",
            "photoUrl": "//lh4.googleusercontent.com/-Mr92juGAy50/AAAAAAAAAAI/AAAAAAAAANY/Nj8C6hASxVk/s50-c-k-no/photo.jpg",
            "userId": "114581550924543140498"
          }
        }
      },
      "cell_type": "code",
      "source": [
        "# Parametrelerin değerlerinin belirlenmesi.\n",
        "batch_size = 32 # her bir iterasyonda \"32\" resim alınsın\n",
        "num_classes = 10  # ayırt etmek istediğimiz \"10\" rakam\n",
        "epochs = 5 # eğitim 5 epoch sürsün\n",
        "\n",
        "\n",
        "# Modele yerleştirme boyutları (Embedding Dimensions).\n",
        "row_hidden = 128\n",
        "col_hidden = 128\n",
        "\n",
        "# Veriseti yükleniyor ve eğitim/test diye ayrılıyor.\n",
        "(x_train, y_train), (x_test, y_test) = mnist.load_data()\n",
        "\n",
        "# Veri HRNN için 4 boyutlu olarak yeniden şekillendiriliyor.\n",
        "x_train = x_train.reshape(x_train.shape[0], 28, 28, 1)\n",
        "x_test = x_test.reshape(x_test.shape[0], 28, 28, 1)\n",
        "x_train = x_train.astype('float32')\n",
        "x_test = x_test.astype('float32')\n",
        "x_train /= 255\n",
        "x_test /= 255\n",
        "print('x_train shape:', x_train.shape)\n",
        "print(x_train.shape[0], 'train samples')\n",
        "print(x_test.shape[0], 'test samples')"
      ],
      "execution_count": 0,
      "outputs": [
        {
          "output_type": "stream",
          "text": [
            "Downloading data from https://s3.amazonaws.com/img-datasets/mnist.npz\n",
            "11493376/11490434 [==============================] - 1s 0us/step\n",
            "11501568/11490434 [==============================] - 1s 0us/step\n",
            "x_train shape: (60000, 28, 28, 1)\n",
            "60000 train samples\n",
            "10000 test samples\n"
          ],
          "name": "stdout"
        }
      ]
    },
    {
      "metadata": {
        "id": "H1gla2g_WuKL",
        "colab_type": "code",
        "colab": {
          "autoexec": {
            "startup": false,
            "wait_interval": 0
          }
        }
      },
      "cell_type": "code",
      "source": [
        "# Sınıf vektörleri ikili (binary) forma dönüştürülüyor.\n",
        "# \"to_catogorical\" fonksiyonu ile one-hot-encoding yapıyoruz.\n",
        "y_train = to_categorical(y_train, num_classes)\n",
        "y_test = to_categorical(y_test, num_classes)"
      ],
      "execution_count": 0,
      "outputs": []
    },
    {
      "metadata": {
        "id": "kasIMO5FXJqL",
        "colab_type": "code",
        "colab": {
          "autoexec": {
            "startup": false,
            "wait_interval": 0
          },
          "base_uri": "https://localhost:8080/",
          "height": 34
        },
        "outputId": "8c3b814a-2684-4289-bd7f-b75f62a482a6",
        "executionInfo": {
          "status": "ok",
          "timestamp": 1533208832885,
          "user_tz": -180,
          "elapsed": 1121,
          "user": {
            "displayName": "Hacer Tilbec",
            "photoUrl": "//lh4.googleusercontent.com/-Mr92juGAy50/AAAAAAAAAAI/AAAAAAAAANY/Nj8C6hASxVk/s50-c-k-no/photo.jpg",
            "userId": "114581550924543140498"
          }
        }
      },
      "cell_type": "code",
      "source": [
        "row, col, pixel = x_train.shape[1:]\n",
        "\n",
        "# 4 boyutlu giriş verileri.\n",
        "x = Input(shape=(row, col, pixel))\n",
        "\n",
        "print(x)\n",
        "\n",
        "# Her satırın pikselleri TimeDistributed Wrapper kullanılar dönüştürülüyor (encoding).\n",
        "encoded_rows = TimeDistributed(LSTM(row_hidden))(x)\n",
        "\n",
        "# Dönüştürülmüş satırların sütunları da dönüştürülüyor.\n",
        "encoded_columns = LSTM(col_hidden)(encoded_rows)\n",
        "\n",
        "# Son olarak, tahmin yapılıyor.\n",
        "prediction = Dense(num_classes, activation='softmax')(encoded_columns)"
      ],
      "execution_count": 0,
      "outputs": [
        {
          "output_type": "stream",
          "text": [
            "Tensor(\"input_2:0\", shape=(?, 28, 28, 1), dtype=float32)\n"
          ],
          "name": "stdout"
        }
      ]
    },
    {
      "metadata": {
        "id": "_9bC_eDYXLf-",
        "colab_type": "code",
        "colab": {
          "autoexec": {
            "startup": false,
            "wait_interval": 0
          },
          "base_uri": "https://localhost:8080/",
          "height": 241
        },
        "outputId": "a7ad2fe6-3e5c-4c92-895a-dc96beb52695",
        "executionInfo": {
          "status": "ok",
          "timestamp": 1533213819989,
          "user_tz": -180,
          "elapsed": 4976546,
          "user": {
            "displayName": "Hacer Tilbec",
            "photoUrl": "//lh4.googleusercontent.com/-Mr92juGAy50/AAAAAAAAAAI/AAAAAAAAANY/Nj8C6hASxVk/s50-c-k-no/photo.jpg",
            "userId": "114581550924543140498"
          }
        }
      },
      "cell_type": "code",
      "source": [
        "# Model kuruluyor.\n",
        "model = Model(x, prediction)\n",
        "model.compile(loss='categorical_crossentropy',\n",
        "              optimizer='rmsprop',\n",
        "              metrics=['accuracy'])\n",
        "\n",
        "# Eğitim yapılıyor.\n",
        "model.fit(x_train, y_train,\n",
        "          batch_size=batch_size,\n",
        "          epochs=epochs,\n",
        "          verbose=1,\n",
        "          validation_data=(x_test, y_test))"
      ],
      "execution_count": 0,
      "outputs": [
        {
          "output_type": "stream",
          "text": [
            "Train on 60000 samples, validate on 10000 samples\n",
            "Epoch 1/5\n",
            "21888/60000 [=========>....................] - ETA: 10:05 - loss: 0.8785 - acc: 0.6907"
          ],
          "name": "stdout"
        },
        {
          "output_type": "stream",
          "text": [
            "59968/60000 [============================>.] - ETA: 0s - loss: 0.4923 - acc: 0.8338"
          ],
          "name": "stdout"
        },
        {
          "output_type": "stream",
          "text": [
            "\b\b\b\b\b\b\b\b\b\b\b\b\b\b\b\b\b\b\b\b\b\b\b\b\b\b\b\b\b\b\b\b\b\b\b\b\b\b\b\b\b\b\b\b\b\b\b\b\b\b\b\b\b\b\b\b\b\b\b\b\b\b\b\b\b\b\b\b\b\b\b\b\b\b\b\b\b\b\b\b\b\b\b\r60000/60000 [==============================] - 995s 17ms/step - loss: 0.4921 - acc: 0.8339 - val_loss: 0.1309 - val_acc: 0.9597\n",
            "Epoch 2/5\n",
            "10336/60000 [====>.........................] - ETA: 13:05 - loss: 0.1447 - acc: 0.9546"
          ],
          "name": "stdout"
        },
        {
          "output_type": "stream",
          "text": [
            "59968/60000 [============================>.] - ETA: 0s - loss: 0.1210 - acc: 0.9635"
          ],
          "name": "stdout"
        },
        {
          "output_type": "stream",
          "text": [
            "\b\b\b\b\b\b\b\b\b\b\b\b\b\b\b\b\b\b\b\b\b\b\b\b\b\b\b\b\b\b\b\b\b\b\b\b\b\b\b\b\b\b\b\b\b\b\b\b\b\b\b\b\b\b\b\b\b\b\b\b\b\b\b\b\b\b\b\b\b\b\b\b\b\b\b\b\b\b\b\b\b\b\b\r60000/60000 [==============================] - 987s 16ms/step - loss: 0.1210 - acc: 0.9635 - val_loss: 0.0817 - val_acc: 0.9762\n",
            "Epoch 3/5\n",
            "10336/60000 [====>.........................] - ETA: 12:56 - loss: 0.0809 - acc: 0.9763"
          ],
          "name": "stdout"
        },
        {
          "output_type": "stream",
          "text": [
            "59968/60000 [============================>.] - ETA: 0s - loss: 0.0823 - acc: 0.9759"
          ],
          "name": "stdout"
        },
        {
          "output_type": "stream",
          "text": [
            "\b\b\b\b\b\b\b\b\b\b\b\b\b\b\b\b\b\b\b\b\b\b\b\b\b\b\b\b\b\b\b\b\b\b\b\b\b\b\b\b\b\b\b\b\b\b\b\b\b\b\b\b\b\b\b\b\b\b\b\b\b\b\b\b\b\b\b\b\b\b\b\b\b\b\b\b\b\b\b\b\b\b\b\r60000/60000 [==============================] - 997s 17ms/step - loss: 0.0823 - acc: 0.9759 - val_loss: 0.0655 - val_acc: 0.9800\n",
            "Epoch 4/5\n",
            "10336/60000 [====>.........................] - ETA: 13:08 - loss: 0.0596 - acc: 0.9816"
          ],
          "name": "stdout"
        },
        {
          "output_type": "stream",
          "text": [
            "59968/60000 [============================>.] - ETA: 0s - loss: 0.0636 - acc: 0.9807"
          ],
          "name": "stdout"
        },
        {
          "output_type": "stream",
          "text": [
            "\b\b\b\b\b\b\b\b\b\b\b\b\b\b\b\b\b\b\b\b\b\b\b\b\b\b\b\b\b\b\b\b\b\b\b\b\b\b\b\b\b\b\b\b\b\b\b\b\b\b\b\b\b\b\b\b\b\b\b\b\b\b\b\b\b\b\b\b\b\b\b\b\b\b\b\b\b\b\b\b\b\b\b\r60000/60000 [==============================] - 998s 17ms/step - loss: 0.0637 - acc: 0.9807 - val_loss: 0.0918 - val_acc: 0.9709\n",
            "Epoch 5/5\n",
            "10336/60000 [====>.........................] - ETA: 13:09 - loss: 0.0599 - acc: 0.9800"
          ],
          "name": "stdout"
        },
        {
          "output_type": "stream",
          "text": [
            "59968/60000 [============================>.] - ETA: 0s - loss: 0.0536 - acc: 0.9840"
          ],
          "name": "stdout"
        },
        {
          "output_type": "stream",
          "text": [
            "\b\b\b\b\b\b\b\b\b\b\b\b\b\b\b\b\b\b\b\b\b\b\b\b\b\b\b\b\b\b\b\b\b\b\b\b\b\b\b\b\b\b\b\b\b\b\b\b\b\b\b\b\b\b\b\b\b\b\b\b\b\b\b\b\b\b\b\b\b\b\b\b\b\b\b\b\b\b\b\b\b\b\b\r60000/60000 [==============================] - 997s 17ms/step - loss: 0.0536 - acc: 0.9840 - val_loss: 0.0536 - val_acc: 0.9836\n"
          ],
          "name": "stdout"
        },
        {
          "output_type": "execute_result",
          "data": {
            "text/plain": [
              "<keras.callbacks.History at 0x7fb6dca1a990>"
            ]
          },
          "metadata": {
            "tags": []
          },
          "execution_count": 9
        }
      ]
    },
    {
      "metadata": {
        "id": "zF0mObdyXlRt",
        "colab_type": "code",
        "colab": {
          "autoexec": {
            "startup": false,
            "wait_interval": 0
          },
          "base_uri": "https://localhost:8080/",
          "height": 51
        },
        "outputId": "85b12847-6c67-4ccb-f31e-0e846ef0eabb",
        "executionInfo": {
          "status": "ok",
          "timestamp": 1533215275512,
          "user_tz": -180,
          "elapsed": 45133,
          "user": {
            "displayName": "Hacer Tilbec",
            "photoUrl": "//lh4.googleusercontent.com/-Mr92juGAy50/AAAAAAAAAAI/AAAAAAAAANY/Nj8C6hASxVk/s50-c-k-no/photo.jpg",
            "userId": "114581550924543140498"
          }
        }
      },
      "cell_type": "code",
      "source": [
        "# Sonuçların değerlendirilmesi.\n",
        "scores = model.evaluate(x_test, y_test, verbose=0)\n",
        "print('Test loss:', scores[0])\n",
        "print('Test accuracy:', scores[1])"
      ],
      "execution_count": 0,
      "outputs": [
        {
          "output_type": "stream",
          "text": [
            "Test loss: 0.053633743908256294\n",
            "Test accuracy: 0.9836\n"
          ],
          "name": "stdout"
        }
      ]
    },
    {
      "metadata": {
        "id": "Q26enzQmv8k3",
        "colab_type": "code",
        "colab": {
          "autoexec": {
            "startup": false,
            "wait_interval": 0
          }
        }
      },
      "cell_type": "code",
      "source": [
        ""
      ],
      "execution_count": 0,
      "outputs": []
    }
  ]
}